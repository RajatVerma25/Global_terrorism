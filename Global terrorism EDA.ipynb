{
 "cells": [
  {
   "cell_type": "markdown",
   "id": "e6932670",
   "metadata": {},
   "source": [
    "# Global Terrorism"
   ]
  },
  {
   "cell_type": "markdown",
   "id": "99c06e3c",
   "metadata": {},
   "source": [
    "### As a security/defence analyst try to find out the hot zones of terrorism."
   ]
  },
  {
   "cell_type": "markdown",
   "id": "14f1d37f",
   "metadata": {},
   "source": [
    "### 1. Importing and cleaning data"
   ]
  },
  {
   "cell_type": "markdown",
   "id": "bbd2c0ef",
   "metadata": {},
   "source": [
    "#### 1.1 Importing libraries"
   ]
  },
  {
   "cell_type": "code",
   "execution_count": null,
   "id": "5d7c9968",
   "metadata": {},
   "outputs": [],
   "source": [
    "# Importing necessary libraries\n",
    "import pandas as pd\n",
    "import matplotlib.pyplot as plt\n",
    "import seaborn as sns\n",
    "import numpy as np"
   ]
  },
  {
   "cell_type": "code",
   "execution_count": null,
   "id": "5976a18b",
   "metadata": {},
   "outputs": [],
   "source": [
    "import warnings\n",
    "warnings.filterwarnings('ignore')"
   ]
  },
  {
   "cell_type": "code",
   "execution_count": null,
   "id": "55879a61",
   "metadata": {},
   "outputs": [],
   "source": [
    "# Importing data\n",
    "data = pd.read_csv('globalterrorismdb_0718dist.csv')"
   ]
  },
  {
   "cell_type": "code",
   "execution_count": null,
   "id": "33b3a5d8",
   "metadata": {},
   "outputs": [],
   "source": [
    "# To display all the rows and columns setiing display option\n",
    "pd.set_option('display.max_rows', None)\n",
    "pd.set_option('display.max_columns', None)"
   ]
  },
  {
   "cell_type": "code",
   "execution_count": null,
   "id": "d54ed0b1",
   "metadata": {},
   "outputs": [],
   "source": [
    "data.head()"
   ]
  },
  {
   "cell_type": "code",
   "execution_count": null,
   "id": "82c1934c",
   "metadata": {},
   "outputs": [],
   "source": [
    "# Checking shape of the data\n",
    "data.shape"
   ]
  },
  {
   "cell_type": "markdown",
   "id": "c00ba431",
   "metadata": {},
   "source": [
    "###### - We can see the data has 181691 rows and 135 columns."
   ]
  },
  {
   "cell_type": "markdown",
   "id": "27f4db5d",
   "metadata": {},
   "source": [
    "#### 1.2 Cleaning the data."
   ]
  },
  {
   "cell_type": "code",
   "execution_count": null,
   "id": "5dd7ae38",
   "metadata": {
    "scrolled": false
   },
   "outputs": [],
   "source": [
    "# Checking for null values\n",
    "data.isnull().sum()"
   ]
  },
  {
   "cell_type": "code",
   "execution_count": null,
   "id": "2a2d1a06",
   "metadata": {},
   "outputs": [],
   "source": [
    "# Finding out the null value percentage and the uniques values in a column\n",
    "def missing_values(data):\n",
    "    data_null= pd.DataFrame()\n",
    "    for col in data.columns:\n",
    "        data_null.loc[col, 'Unique']=len(data[col].unique())\n",
    "        data_null.loc[col, '% of null values']=round(data[col].isnull().sum()*100/len(data),2)\n",
    "        data_null.loc[col, 'dtype']=data[col].dtype\n",
    "        \n",
    "    return data_null.sort_values(ascending= False, by= '% of null values')"
   ]
  },
  {
   "cell_type": "code",
   "execution_count": null,
   "id": "5d04d82f",
   "metadata": {
    "scrolled": false
   },
   "outputs": [],
   "source": [
    "missing_values(data)"
   ]
  },
  {
   "cell_type": "markdown",
   "id": "bd857c2e",
   "metadata": {},
   "source": [
    "###### -It can be observed that most of the variables have >80% missing values. We will drop these variables as they are not going to be helpful in analysis."
   ]
  },
  {
   "cell_type": "code",
   "execution_count": null,
   "id": "e26fc4a8",
   "metadata": {},
   "outputs": [],
   "source": [
    "# Renaming columns for better understanding and analysis\n",
    "data.rename(columns={'iyear':'Year', 'imonth':'Month','iday':'day','provstate':'Province','attacktype1':'Attack_type',\n",
    "                     'attacktype1_txt':'Attacktype_text','targtype1':'Target_type','targtype1_txt':'Targetype_text',\n",
    "                     'targsubtype1':'Target_subtype','targsubtype1_txt':'Targetsubtype_text','corp1':'Corporation',\n",
    "                     'target1':'Target','natlty1_txt':'Nationality','gname':'Gang','weaptype1_txt':'Weapon_used',\n",
    "                     'weapsubtype1_txt':'Weapon_subtype','nkill':'Killed','nwound':'Wounded','ishostkid':'Hostages/Kidnappings'\n",
    "                     },inplace= True)"
   ]
  },
  {
   "cell_type": "code",
   "execution_count": null,
   "id": "05d022c8",
   "metadata": {},
   "outputs": [],
   "source": [
    "data.describe()"
   ]
  },
  {
   "cell_type": "code",
   "execution_count": null,
   "id": "f7d463f6",
   "metadata": {
    "scrolled": false
   },
   "outputs": [],
   "source": [
    "# Looking for unique values in various columns.\n",
    "for features in data:\n",
    "    print(features ,':', len(data[features].unique()))"
   ]
  },
  {
   "cell_type": "code",
   "execution_count": null,
   "id": "0dbc625a",
   "metadata": {},
   "outputs": [],
   "source": [
    "# Dropping columns with > 80% null values.\n",
    "data= data.loc[:,data.isnull().sum()/len(data)<0.20] #Extracting data with less than 20% value."
   ]
  },
  {
   "cell_type": "code",
   "execution_count": null,
   "id": "504340c4",
   "metadata": {
    "scrolled": false
   },
   "outputs": [],
   "source": [
    "data.head()"
   ]
  },
  {
   "cell_type": "code",
   "execution_count": null,
   "id": "5d365b2b",
   "metadata": {},
   "outputs": [],
   "source": [
    "data.shape"
   ]
  },
  {
   "cell_type": "markdown",
   "id": "0ce6ec40",
   "metadata": {},
   "source": [
    "###### As we can see that almost 65% of the columns are dropped because they had null values >80."
   ]
  },
  {
   "cell_type": "code",
   "execution_count": null,
   "id": "7efb68ce",
   "metadata": {},
   "outputs": [],
   "source": [
    "# Dropping these columns as these wont be used in analysis.\n",
    "data=data.drop(columns=['eventid','dbsource','specificity','guncertain1','INT_LOG','INT_IDEO','INT_MISC','INT_ANY'])"
   ]
  },
  {
   "cell_type": "code",
   "execution_count": null,
   "id": "1147c65a",
   "metadata": {},
   "outputs": [],
   "source": [
    "data.head()"
   ]
  },
  {
   "cell_type": "code",
   "execution_count": null,
   "id": "b3fff473",
   "metadata": {},
   "outputs": [],
   "source": [
    "# Converting date columns into date time format\n",
    "data['Date'] = pd.to_datetime(data[['Year','Month','day']], errors = 'coerce')\n",
    "data.head()"
   ]
  },
  {
   "cell_type": "code",
   "execution_count": null,
   "id": "170bfe7e",
   "metadata": {},
   "outputs": [],
   "source": [
    "# Making this date related columns more specific as we are going to used it further.\n",
    "data['week'] = data['Date'].dt.isocalendar().week\n",
    "data['day_name'] = data['Date'].dt.day_name()\n",
    "data['weekday'] = data['Date'].dt.weekday\n",
    "data['is_weekend'] = np.where(((data['Date']).dt.dayofweek) < 5,0,1)\n",
    "data.dropna(subset = ['Date','latitude','longitude'], inplace = True)\n",
    "data.reset_index(inplace = True, drop = True)\n",
    "data['casualities'] = data['Killed']+data['Wounded']"
   ]
  },
  {
   "cell_type": "code",
   "execution_count": null,
   "id": "87b08bc5",
   "metadata": {},
   "outputs": [],
   "source": [
    "data.head()"
   ]
  },
  {
   "cell_type": "code",
   "execution_count": null,
   "id": "7becee3d",
   "metadata": {},
   "outputs": [],
   "source": [
    "# checking for null values again.\n",
    "data.isnull().sum()"
   ]
  },
  {
   "cell_type": "code",
   "execution_count": null,
   "id": "9a19329c",
   "metadata": {},
   "outputs": [],
   "source": [
    "# Imputing the missing values\n",
    "\n",
    "def Nan_imputation(df, feature):\n",
    "    if(df[feature].dtype== 'int') or (df[feature].dtype=='float'):\n",
    "        df[feature + 'med'] = df[feature].fillna(data[feature].median())\n",
    "        df.drop(feature, axis=1)\n",
    "    \n",
    "    elif(df[feature.dtype=='categorical']) or (df[feature].dtype=='bool'):\n",
    "        df[feature + 'mod'] = df[feature].fillna(data[feature].mode()[0])\n",
    "        df.drop(feature, axis=1)"
   ]
  },
  {
   "cell_type": "code",
   "execution_count": null,
   "id": "5db357a0",
   "metadata": {},
   "outputs": [],
   "source": [
    "# checking the dtypes again\n",
    "data.dtypes"
   ]
  },
  {
   "cell_type": "markdown",
   "id": "47e2f955",
   "metadata": {},
   "source": [
    "### 2. Analysing and visualizing the data"
   ]
  },
  {
   "cell_type": "code",
   "execution_count": null,
   "id": "234578d7",
   "metadata": {},
   "outputs": [],
   "source": [
    "print ('Country with highest terrorist attacks:' ,data['country_txt'].value_counts().index[0])\n",
    "print ('Region with highest terrorist attacks:' ,data['region_txt'].value_counts().index[0])\n",
    "print ('Maximum terrorist activities happened in year-', data['Year'].value_counts().index[0])\n",
    "print ('Maximum deaths that happened in a terrorist activities are:', data['Killed'].max())"
   ]
  },
  {
   "cell_type": "code",
   "execution_count": null,
   "id": "388db6fc",
   "metadata": {
    "scrolled": false
   },
   "outputs": [],
   "source": [
    "attacks = data.country_txt.value_counts()[:25].to_frame() #Top 15 values.\n",
    "attacks.columns = ['Attacks']\n",
    "kills = data.groupby(['country_txt'])['Killed'].sum().sort_values(ascending= False).to_frame()\n",
    "attacks.merge(kills, how='left', left_index=True, right_index=True).plot.bar(color= sns.color_palette('copper',2))\n",
    "fig=plt.gcf()\n",
    "fig.set_size_inches(18,6)\n",
    "plt.ylabel('Count')\n",
    "plt.xlabel('Country')\n",
    "plt.show()"
   ]
  },
  {
   "cell_type": "markdown",
   "id": "02b71355",
   "metadata": {},
   "source": [
    "#### Conclusion-\n",
    "- Iraq has seen most number of terrorist acts and also has most number of casualities.\n",
    "- Afghanistan has seen the 2nd most number of casulaities.\n",
    "- It can be observed that these terrorists mostly focus on the densely populated areas."
   ]
  },
  {
   "cell_type": "code",
   "execution_count": null,
   "id": "f29ab538",
   "metadata": {},
   "outputs": [],
   "source": [
    "plt.subplots(figsize=(15,6))\n",
    "sns.countplot('Year', data=data, palette = 'afmhot_r', edgecolor= sns.color_palette('dark',5))\n",
    "plt.title('Number of Terrorist activities every year')\n",
    "plt.xticks(rotation=90)\n",
    "plt.show()"
   ]
  },
  {
   "cell_type": "markdown",
   "id": "30f453f0",
   "metadata": {},
   "source": [
    "#### Conclusion- \n",
    "- The act of terrorism exponentially incread after the year 2004.\n",
    "- Most terrorist activities happened in year 2014."
   ]
  },
  {
   "cell_type": "code",
   "execution_count": null,
   "id": "c28b2173",
   "metadata": {
    "scrolled": false
   },
   "outputs": [],
   "source": [
    "terror_regions = pd.crosstab(data.Year, data.region_txt)\n",
    "terror_regions.plot()\n",
    "fig=plt.gcf()\n",
    "fig.set_size_inches(25,10)\n",
    "plt.legend(loc=\"upper left\")\n",
    "plt.show()"
   ]
  },
  {
   "cell_type": "markdown",
   "id": "b723865a",
   "metadata": {},
   "source": [
    "#### Conclusion-\n",
    "- Middle east region has seen most number of terrorist attacks till now in 21st century.\n",
    "- South Asia region is not far behind and is 2nd most affected region on the world map.\n",
    "- Mostly the region behind these attacks can be OIL in middle east and POVERTY in south aisa."
   ]
  },
  {
   "cell_type": "code",
   "execution_count": null,
   "id": "01871dc7",
   "metadata": {
    "scrolled": false
   },
   "outputs": [],
   "source": [
    "plt.subplots(figsize=(15,6))\n",
    "sns.countplot('Month', data=data, palette= 'Paired',edgecolor='Black')\n",
    "plt.title('Number of terrorist activities each month')\n",
    "plt.show()"
   ]
  },
  {
   "cell_type": "markdown",
   "id": "ab550679",
   "metadata": {},
   "source": [
    "#### Couclusion-\n",
    "- The world has seen most terror acts in May.\n",
    "- The difference in number of attacks is not very significant in any month. "
   ]
  },
  {
   "cell_type": "code",
   "execution_count": null,
   "id": "9b827ba4",
   "metadata": {
    "scrolled": false
   },
   "outputs": [],
   "source": [
    "plt.subplots(figsize=(15,6))\n",
    "sns.countplot('day', data=data,palette = 'Paired', edgecolor= 'Black')\n",
    "plt.title(\"Number of terrorist attacks for each day\")\n",
    "plt.show()"
   ]
  },
  {
   "cell_type": "markdown",
   "id": "2d874584",
   "metadata": {},
   "source": [
    "#### Conclusion-\n",
    "- These terrorists have no concept of holidays or breaks. \n",
    "- Not a single day has passed by when a terrorist attack is below the count of 5500 except 31st of any month (Because 31st doesnt come every month)"
   ]
  },
  {
   "cell_type": "code",
   "execution_count": null,
   "id": "7b7531e5",
   "metadata": {},
   "outputs": [],
   "source": [
    "plt.subplots(figsize=(15,6))\n",
    "sns.countplot('region_txt', data= data, palette= \"copper_r\", order= data['region_txt'].value_counts().index)\n",
    "plt.xticks(rotation=90)\n",
    "plt.xlabel('Regions')\n",
    "plt.title('Number of terrorist attacks by region')\n",
    "plt.show()"
   ]
  },
  {
   "cell_type": "markdown",
   "id": "9f5a6db5",
   "metadata": {},
   "source": [
    "#### Conclusion- \n",
    "- Middle eastern regions and South Asia has seen most number of terrorist activities mostly because of the OIL and POVERTY.\n",
    "- Also most of the countries in these regions are politically unrest countries. \n",
    "- Some of these countries has even seen military coups."
   ]
  },
  {
   "cell_type": "code",
   "execution_count": null,
   "id": "12ffe649",
   "metadata": {},
   "outputs": [],
   "source": [
    "plt.subplots(figsize=(15,6))\n",
    "sns.countplot('Targetype_text', data=data,palette= sns.color_palette('copper_r'),edgecolor = 'Black', order = data[\"Targetype_text\"].value_counts().index)\n",
    "plt.xticks(rotation=90)\n",
    "plt.title('Terrorist targets')\n",
    "plt.xlabel('Count of terrorist target types')\n",
    "plt.show()"
   ]
  },
  {
   "cell_type": "markdown",
   "id": "62eac933",
   "metadata": {},
   "source": [
    "#### Conclusion- \n",
    "- Terrorists mostly target the citizens of the country.\n",
    "- After citizens of the nation, miltary personnel are targetted the most due to cross border activities."
   ]
  },
  {
   "cell_type": "code",
   "execution_count": null,
   "id": "c11d40ca",
   "metadata": {},
   "outputs": [],
   "source": [
    "\n",
    "data['success']=data['success'].replace({1:'Successful Operation', 0:'Unsuccessful Operation'})\n",
    "data['success'].value_counts().plot(kind='pie', autopct=\"%1.1f%%\", cmap=\"Pastel2\")\n",
    "plt.title('Successful vs Unseccessful Operations')\n",
    "plt.show()"
   ]
  },
  {
   "cell_type": "markdown",
   "id": "5c8aab0f",
   "metadata": {},
   "source": [
    "#### Conclusion-\n",
    "- The terrorists have conducted almost 90% successful operations which shows the failure and ignorance of most of the inland intelligence and security."
   ]
  },
  {
   "cell_type": "code",
   "execution_count": null,
   "id": "a4705dc5",
   "metadata": {
    "scrolled": false
   },
   "outputs": [],
   "source": [
    "pd.crosstab(data.Weapon_used, data.Attacktype_text).plot.barh(stacked= True, width=1,color=sns.color_palette('RdYlBu_r',10))\n",
    "fig= plt.gcf()\n",
    "plt.ylabel('Weapon Type')\n",
    "plt.xlabel('Number of attacks')\n",
    "fig.set_size_inches(12,8)"
   ]
  },
  {
   "cell_type": "markdown",
   "id": "30bd766c",
   "metadata": {},
   "source": [
    "#### Conclusion-\n",
    "- Explosives are the favourite things used by the terrorists to create terror. "
   ]
  },
  {
   "cell_type": "code",
   "execution_count": null,
   "id": "ceaa5bc0",
   "metadata": {
    "scrolled": false
   },
   "outputs": [],
   "source": [
    "pd.crosstab(data.region_txt, data.Attacktype_text).plot.barh(stacked=True, width=1, color=sns.color_palette('RdYlBu_r',8))\n",
    "fig=plt.gcf()\n",
    "fig.set_size_inches(12,8)\n",
    "plt.ylabel('Region')\n",
    "plt.xlabel('Number of attacks')\n",
    "plt.title('Most affected regions by terrorism')\n",
    "plt.show()"
   ]
  },
  {
   "cell_type": "markdown",
   "id": "f4581bf6",
   "metadata": {},
   "source": [
    "#### Conclusion- \n",
    "- As we already know Middle east is the favourite region of terrorists. Most of the terror activities are done by using explosives.\n",
    "- Not only in middle east, every other region has seen maximum terror activities as a result of explosions and bombing."
   ]
  },
  {
   "cell_type": "code",
   "execution_count": null,
   "id": "da46d15c",
   "metadata": {},
   "outputs": [],
   "source": [
    "# Plotting geo_coordinates using Plotly Mapbox country wise\n",
    "# if there is no attack happened in any country, it would not be in this data\n",
    "import random\n",
    "import plotly.graph_objects as go\n",
    "mapbox_access_token = \"pk.eyJ1IjoibWF0c3VqanUiLCJhIjoiY2tmcXFiczFiMGRpdzMybzBxZmxtaTVxbiJ9.0zdao0fZdKyGb7CO8dPAVg\"\n",
    "def geo_coordinate(data , country = None , color =None):\n",
    "    if country is not None:\n",
    "        data = data[data['country_txt'] == country]\n",
    "        random.seed(210)\n",
    "        zoom = 5\n",
    "    else:\n",
    "        data = data\n",
    "        country = 'Whole World'\n",
    "        zoom = 2\n",
    "    \n",
    "    fig = go.Figure()\n",
    "    new_customdatadf = np.stack(  # stacking of columns along last axis\n",
    "    (\n",
    "        \n",
    "        data[\"city\"],\n",
    "        data[\"Year\"],\n",
    "        data[\"Province\"],\n",
    "        data['country_txt'],\n",
    "        data['Gang'],\n",
    "        data['Attack_type']\n",
    "    ),\n",
    "    axis=-1,\n",
    "    )\n",
    "    fig.add_traces(\n",
    "        go.Scattermapbox(\n",
    "            lon=data[\"longitude\"],\n",
    "            lat=data[\"latitude\"],\n",
    "            mode=\"markers\",\n",
    "            marker=dict(size=10, allowoverlap=False, opacity=0.7, color=color),\n",
    "            # text=df_sub[\"casualities_median\"],\n",
    "            customdata=new_customdatadf,  # we have to first stack the columns along the last axis\n",
    "            hovertemplate=\"\"\"<extra></extra>lat: %{lat}<br>long: %{lon}<br>casualities: %{customdata[0]}\n",
    "            <br>city: %{customdata[1]}<br>State: %{customdata[3]}<br>Country: %{customdata[4]}<br>Group \n",
    "            taken responsibiltiy: %{customdata[5]}<br>Attack_type: %{customdata[6]}<br>attack happened in:\n",
    "            %{customdata[2]}\"\"\",\n",
    "        ),\n",
    "    )\n",
    "\n",
    "    fig.update_layout(\n",
    "        title=dict(\n",
    "            text=f\"<b>Satellite Overview of {country}</b>\",\n",
    "            font=dict(family=\"Cabin Sketch\", size=20, color=\"black\",),\n",
    "            xanchor=\"left\",\n",
    "            xref=\"container\",\n",
    "        ),\n",
    "        uirevision=\"foo\",\n",
    "        hovermode=\"closest\",\n",
    "        hoverdistance=2,\n",
    "        mapbox=dict(\n",
    "            accesstoken=mapbox_access_token,\n",
    "            style=\"dark\",\n",
    "            center=dict(\n",
    "                lat=random.choice(data[\"latitude\"].tolist()),\n",
    "                lon=random.choice(data[\"longitude\"].tolist()),\n",
    "            ),\n",
    "            zoom=zoom,\n",
    "        ),\n",
    "        annotations = [dict(showarrow=False,\n",
    "        text='(Zoom In/Zoom Out to see all points properly)',\n",
    "        xanchor='right',\n",
    "        x=1,\n",
    "        yanchor='top',\n",
    "        y=1.1\n",
    "                )]\n",
    "    )\n",
    "    return fig"
   ]
  },
  {
   "cell_type": "code",
   "execution_count": null,
   "id": "bdf65c83",
   "metadata": {},
   "outputs": [],
   "source": [
    "geo_coordinate(data , color = 'Crimson' , country = 'Iraq')\n"
   ]
  },
  {
   "cell_type": "markdown",
   "id": "135a96cd",
   "metadata": {},
   "source": [
    "#### As Iraq has seen most number of terror activities lets try to see what it actually looks like on a map.\n",
    "#### Conclusion-\n",
    "- As we can see in the map above that most of the terror activities has happened near the capital of Iraq because the terrorist also know if the capital is at unrest that means the country is at the unrest.\n",
    "- After Baghdad a lot of terror activites has happened in neighbouring states of Baghdad which are densely populated."
   ]
  },
  {
   "cell_type": "code",
   "execution_count": null,
   "id": "e78368f9",
   "metadata": {},
   "outputs": [],
   "source": [
    "geo_coordinate(data , color = 'Crimson' , country = 'Pakistan')\n"
   ]
  },
  {
   "cell_type": "markdown",
   "id": "f918116f",
   "metadata": {},
   "source": [
    "#### COnclusion-\n",
    "- The main group responsible for attacks in Pakistan is \"Tehrik-i-Taliban Pakistan\" (Taliban group for this region) but as per current scenerio \"Baloch Republican Army\" is increasing their attacks.\n",
    "- Karachi seems like their favourite place and it means it is densly populated city of Pakistan."
   ]
  },
  {
   "cell_type": "code",
   "execution_count": null,
   "id": "0bbb13de",
   "metadata": {},
   "outputs": [],
   "source": [
    "geo_coordinate(data , color = 'Crimson' , country = 'India')\n"
   ]
  },
  {
   "cell_type": "markdown",
   "id": "54ec0081",
   "metadata": {},
   "source": [
    "#### Conclusion-\n",
    "- India has also seen a fair amount of terrorism even after being a peace loving country.\n",
    "- Most of the activities has happened near the border areas of Pakistan and Bangladesh. \n",
    "- We can also see a lot of red dots in the coastal areas because terrorist have also entered the country using the sea."
   ]
  },
  {
   "cell_type": "code",
   "execution_count": null,
   "id": "2c4726a0",
   "metadata": {},
   "outputs": [],
   "source": [
    "geo_coordinate(data , color = 'Crimson'  )\n"
   ]
  },
  {
   "cell_type": "markdown",
   "id": "89b30a43",
   "metadata": {},
   "source": [
    "#### Conclusion-\n",
    "- Almost every country has seen a fair amount of terror but Middle east and South Asia are the favourite hot spots of terrorists.\n"
   ]
  },
  {
   "cell_type": "markdown",
   "id": "a26bdc6e",
   "metadata": {},
   "source": [
    "### Summary\n",
    "\n",
    "#### This word terrorism is not new to anyone of us but we should also keep in mind that terrorists and their gangs/groups have their own agendas and they are formed to fulfill those agendas.\n",
    "#### For eg.- Terrorist groups like Taliban in Afghanistan was formed when Russia invaded Afghanistan for capturing it and US didn't want direct involvemnet in the fight. But US also didnt want to be a spectatre so they started making a group of local afghans and started giving them the training to fight Russian troops. After Russia left the country the Americans set their foot in Afghanistan whhich was not liked by Taliban. So they started giving hard time to Americans as well.\n",
    "#### Therefore, we can say that most of the terrorist activities are a result of global politics and difference in ideologies.\n"
   ]
  },
  {
   "cell_type": "code",
   "execution_count": null,
   "id": "9eb364fa",
   "metadata": {},
   "outputs": [],
   "source": []
  }
 ],
 "metadata": {
  "kernelspec": {
   "display_name": "Python 3",
   "language": "python",
   "name": "python3"
  },
  "language_info": {
   "codemirror_mode": {
    "name": "ipython",
    "version": 3
   },
   "file_extension": ".py",
   "mimetype": "text/x-python",
   "name": "python",
   "nbconvert_exporter": "python",
   "pygments_lexer": "ipython3",
   "version": "3.8.8"
  }
 },
 "nbformat": 4,
 "nbformat_minor": 5
}
